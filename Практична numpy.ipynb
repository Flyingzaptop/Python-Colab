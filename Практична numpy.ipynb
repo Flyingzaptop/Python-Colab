{
  "nbformat": 4,
  "nbformat_minor": 0,
  "metadata": {
    "colab": {
      "provenance": [],
      "include_colab_link": true
    },
    "kernelspec": {
      "name": "python3",
      "display_name": "Python 3"
    },
    "language_info": {
      "name": "python"
    }
  },
  "cells": [
    {
      "cell_type": "markdown",
      "metadata": {
        "id": "view-in-github",
        "colab_type": "text"
      },
      "source": [
        "<a href=\"https://colab.research.google.com/github/Flyingzaptop/Python-Colab/blob/main/DZ%202.ipynb\" target=\"_parent\"><img src=\"https://colab.research.google.com/assets/colab-badge.svg\" alt=\"Open In Colab\"/></a>"
      ]
    },
    {
      "cell_type": "markdown",
      "source": [
        "Імпортуйте модуль numpy"
      ],
      "metadata": {
        "id": "rIioSM27QJ8x"
      }
    },
    {
      "cell_type": "code",
      "execution_count": null,
      "metadata": {
        "id": "rDtfBq8ANBhL"
      },
      "outputs": [],
      "source": [
        "import numpy as np"
      ]
    },
    {
      "cell_type": "markdown",
      "source": [
        "# Завдання 1\n",
        "Створіть масив з елементами від 1 до 12. Виведіть розмір та тип масиву"
      ],
      "metadata": {
        "id": "npT_FnlcNwke"
      }
    },
    {
      "cell_type": "code",
      "source": [
        "arr = np.arange(1, 13)\n",
        "print(arr.shape)\n",
        "print(arr.dtype)\n",
        "print(arr)\n"
      ],
      "metadata": {
        "id": "02EdQMKlOZHr",
        "outputId": "9bad1453-1174-438e-a7f7-4f9728d90b91",
        "colab": {
          "base_uri": "https://localhost:8080/"
        }
      },
      "execution_count": null,
      "outputs": [
        {
          "output_type": "stream",
          "name": "stdout",
          "text": [
            "(12,)\n",
            "int64\n",
            "[ 1  2  3  4  5  6  7  8  9 10 11 12]\n"
          ]
        }
      ]
    },
    {
      "cell_type": "markdown",
      "source": [
        "# Завдання 2\n",
        "Зробіть на основі попереднього масиву матрицю з 4 стовчиками. Змініть тип даних матриці на float32. Виведіть транспоновану матрицю."
      ],
      "metadata": {
        "id": "HH8hOwVhNxWE"
      }
    },
    {
      "cell_type": "code",
      "source": [
        "matr = arr.reshape(3, 4).astype('float32')\n",
        "print(matr.T)\n"
      ],
      "metadata": {
        "id": "4jYqwTycOYbN",
        "outputId": "cd43184d-880c-488b-938c-1a6151efe4ab",
        "colab": {
          "base_uri": "https://localhost:8080/"
        }
      },
      "execution_count": null,
      "outputs": [
        {
          "output_type": "stream",
          "name": "stdout",
          "text": [
            "[[ 1.  5.  9.]\n",
            " [ 2.  6. 10.]\n",
            " [ 3.  7. 11.]\n",
            " [ 4.  8. 12.]]\n"
          ]
        }
      ]
    },
    {
      "cell_type": "markdown",
      "source": [
        "#Завдання 3\n",
        "Створіть матрицю 8х8 з 0 та 1 розміщеними в шаховому порядку"
      ],
      "metadata": {
        "id": "T35Vjkz1Nxez"
      }
    },
    {
      "cell_type": "code",
      "source": [
        "chess_matr = np.zeros((8, 8), dtype=int)\n",
        "chess_matr[1::2, ::2] = 1\n",
        "chess_matr[::2, 1::2] = 1\n",
        "print(chess_matr)"
      ],
      "metadata": {
        "id": "mrbnfiPQPu_n",
        "outputId": "77dcf4ae-dd9d-493e-ec5e-24d25c4ba559",
        "colab": {
          "base_uri": "https://localhost:8080/"
        }
      },
      "execution_count": null,
      "outputs": [
        {
          "output_type": "stream",
          "name": "stdout",
          "text": [
            "[[0 1 0 1 0 1 0 1]\n",
            " [1 0 1 0 1 0 1 0]\n",
            " [0 1 0 1 0 1 0 1]\n",
            " [1 0 1 0 1 0 1 0]\n",
            " [0 1 0 1 0 1 0 1]\n",
            " [1 0 1 0 1 0 1 0]\n",
            " [0 1 0 1 0 1 0 1]\n",
            " [1 0 1 0 1 0 1 0]]\n"
          ]
        }
      ]
    },
    {
      "cell_type": "markdown",
      "source": [
        "# Завдання 4\n",
        "Створіть випадкову матрицю 4х3. Знайдіть суму елементів в стовпчиках\\рядках\\усій матриці"
      ],
      "metadata": {
        "id": "g87KAY1nNxoy"
      }
    },
    {
      "cell_type": "code",
      "source": [
        "rmatrix = np.random.randint(0,100,(4,3))\n",
        "print(rmatrix)\n",
        "s1 = rmatrix.sum(axis=0)\n",
        "s2 = rmatrix.sum(axis=1)\n",
        "s3 = rmatrix.sum()\n",
        "print(\" \")\n",
        "print(s1)\n",
        "print(\" \")\n",
        "print(s2)\n",
        "print(\" \")\n",
        "print(s3)"
      ],
      "metadata": {
        "id": "RGA3022VQIZV",
        "outputId": "38cde4a0-32d6-48f4-fe8b-381263c0410f",
        "colab": {
          "base_uri": "https://localhost:8080/"
        }
      },
      "execution_count": null,
      "outputs": [
        {
          "output_type": "stream",
          "name": "stdout",
          "text": [
            "[[35 43 42]\n",
            " [63 92  6]\n",
            " [92 27 97]\n",
            " [91 28 30]]\n",
            " \n",
            "[281 190 175]\n",
            " \n",
            "[120 161 216 149]\n",
            " \n",
            "646\n"
          ]
        }
      ]
    },
    {
      "cell_type": "markdown",
      "source": [
        "# Завдання 5\n",
        "У попередній матриці від кожного рядка відніміть максимальний елемент цього рядка"
      ],
      "metadata": {
        "id": "AGH0TVVBNxx9"
      }
    },
    {
      "cell_type": "code",
      "source": [
        "row_max = rmatrix.max(axis=1)\n",
        "print(s2)\n",
        "\n",
        "print(\" - \")\n",
        "\n",
        "print(row_max)\n",
        "\n",
        "s4 = s2 - row_max\n",
        "print(\" = \")\n",
        "\n",
        "print(s4)"
      ],
      "metadata": {
        "id": "TVYjbsBDQHTU",
        "outputId": "1c1327a9-7324-480a-e23e-43c29bfe671e",
        "colab": {
          "base_uri": "https://localhost:8080/"
        }
      },
      "execution_count": null,
      "outputs": [
        {
          "output_type": "stream",
          "name": "stdout",
          "text": [
            "[120 161 216 149]\n",
            " - \n",
            "[43 92 97 91]\n",
            " = \n",
            "[ 77  69 119  58]\n"
          ]
        }
      ]
    },
    {
      "cell_type": "markdown",
      "source": [
        "# Завдання 6\n",
        "Є дані про вагу контейнерів для перевезення на кораблі: дрібний - 5 т,  малий - 10 т, середній - 25 т, великий - 40 т. На кораблі розміщено 20 дрібних, 5 малих, 10 середніх та 4 великих контейнерів. Знайти масу вантажу."
      ],
      "metadata": {
        "id": "cH8WhnsjQsXi"
      }
    },
    {
      "cell_type": "code",
      "source": [
        "weights = np.array([5,10,25,40])\n",
        "boxes = np.array([20,5,10,4])\n",
        "\n",
        "cargo = weights @ boxes\n",
        "print(cargo)\n",
        "\n",
        "print(5*20 + 5*10 + 10*25 +4*40)\n"
      ],
      "metadata": {
        "id": "BYrqqe9WR6g7",
        "outputId": "812a2d49-9660-40d4-a3b6-393dea1d3599",
        "colab": {
          "base_uri": "https://localhost:8080/"
        }
      },
      "execution_count": null,
      "outputs": [
        {
          "output_type": "stream",
          "name": "stdout",
          "text": [
            "560\n",
            "560\n"
          ]
        }
      ]
    },
    {
      "cell_type": "markdown",
      "source": [],
      "metadata": {
        "id": "UgTpaLAdNbbj"
      }
    },
    {
      "cell_type": "markdown",
      "source": [
        "# Завдання 7\n",
        "Тепер у нас декілька кораблів. Напишіть код для обчислення вантажу на кожному кораблі."
      ],
      "metadata": {
        "id": "IhdiDOh3Qrmb"
      }
    },
    {
      "cell_type": "code",
      "source": [
        "boats_num = 5\n",
        "all_boxes = np.random.randint(0,20,(boats_num, 4))\n",
        "print(all_boxes)\n",
        "print(\" \")\n",
        "total = all_boxes @ weights\n",
        "print(total)"
      ],
      "metadata": {
        "id": "gVUXPdFhSI95",
        "outputId": "8fe323fc-e75b-4edf-bc0f-e93764ead90e",
        "colab": {
          "base_uri": "https://localhost:8080/"
        }
      },
      "execution_count": null,
      "outputs": [
        {
          "output_type": "stream",
          "name": "stdout",
          "text": [
            "[[ 6 16 13 18]\n",
            " [11 15 11  5]\n",
            " [ 5  6 16 18]\n",
            " [ 7  0  8 12]\n",
            " [ 2  9 13 12]]\n",
            " \n",
            "[1235  680 1205  715  905]\n"
          ]
        }
      ]
    }
  ]
}
